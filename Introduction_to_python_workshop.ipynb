{
  "cells": [
    {
      "cell_type": "markdown",
      "metadata": {
        "id": "view-in-github",
        "colab_type": "text"
      },
      "source": [
        "<a href=\"https://colab.research.google.com/github/federicomilani/Javascript-Part-I/blob/main/Introduction_to_python_workshop.ipynb\" target=\"_parent\"><img src=\"https://colab.research.google.com/assets/colab-badge.svg\" alt=\"Open In Colab\"/></a>"
      ]
    },
    {
      "cell_type": "markdown",
      "metadata": {
        "id": "8kpK0ChV-lc4"
      },
      "source": [
        "_____\n",
        "\n",
        "<center><h1>Introduction to Python</h1></center>\n",
        "\n",
        "<center ><a target=\"_blank\" href=\"https://learning.constructor.org/\"><img src=\"https://i.ytimg.com/vi/Yb13-rsVFTo/maxresdefault.jpg\" width=\"300\" style=\"background:none; border:none; box-shadow:none; background-color:black\" /></a> </center>\n",
        "\n",
        "\n",
        "_____\n",
        "\n",
        "<center> <h2> Workshop  </h2> </center>\n",
        "\n",
        "<p style=\"margin-bottom:1cm;\"></p>\n",
        "\n",
        "_____\n",
        "\n",
        "<center>Constructor Academy, 13.September.2023</center>\n",
        "\n",
        "_____\n"
      ]
    },
    {
      "cell_type": "markdown",
      "source": [
        "## Welcome to the Intro to Python Workshop!\n",
        "\n",
        "Welcome to the Intro to Python workshop! We're excited to have you here. Get ready for an informative and enjoyable Python journey!\n",
        "\n",
        "Let's get started!"
      ],
      "metadata": {
        "id": "yGwMM8ebP1vr"
      }
    },
    {
      "cell_type": "markdown",
      "metadata": {
        "id": "-OXd-P2v-lc8"
      },
      "source": [
        "### Python Installation\n",
        "\n",
        "**Windows**\n",
        "\n",
        "Click on the link: https://www.python.org/downloads/windows\n",
        "\n",
        "Download the installer based on your local computer hardware architecture.\n",
        "\n",
        "![](https://drive.google.com/uc?export=view&id=1Wqgi-4LXLJfCqTeJSNpYBKw8PFNR3iAa)\n",
        "\n",
        "Recommended tutorial on how to install it: [Click here](https://www.tomshardware.com/how-to/install-python-on-windows-10-and-11#:~:text=Open%20a%20browser%20to%20the%20Python%20website%20and%20download%20the%20Windows%20installer.&text=2.,on%20Install%20now%20to%20begin.)\n",
        "\n",
        "After the installation open command prompt and type: `python --version`\n",
        "\n",
        "**Mac**\n",
        "\n",
        "Click on the link: https://www.python.org/downloads/mac-osx\n",
        "\n",
        "Download the latest installer (straight forward installation)\n",
        "\n",
        "**Linux**\n",
        "\n",
        "Most Linux distributions come with python!\n",
        "\n",
        "To make sure it's installed, open the terminal and run: `which python3`\n",
        "\n",
        "If it's not installed you can run those commands on your terminal (For Ubuntu, for other Linux distributions use: managers such as YUM for Red Hat, aptitude for debian, DNF for Fedora, etc...):\n",
        "\n",
        "`$ sudo apt-get update`\n",
        "\n",
        "`$ sudo apt-get install python3.10 python3-pip`\n",
        "\n",
        "In case you would like to install on other platforms or installation from source code: https://www.python.org/downloads/source/"
      ]
    },
    {
      "cell_type": "markdown",
      "metadata": {
        "id": "Q113sRlH-lc9"
      },
      "source": [
        "**For this workshop, we will use Colab to have a tutorial structure**\n",
        "\n",
        "<div>\n",
        "<img src=\"https://miro.medium.com/max/1400/1*6nKt2fNOIxv4HX_o9-AIVw.png\" width=\"500\"/>\n",
        "</div>"
      ]
    },
    {
      "cell_type": "markdown",
      "metadata": {
        "id": "plehwcnS-lc9"
      },
      "source": [
        "### Python Syntax"
      ]
    },
    {
      "cell_type": "markdown",
      "source": [
        "Python documentation: https://docs.python.org/3/"
      ],
      "metadata": {
        "id": "-FgCikiVcMLk"
      }
    },
    {
      "cell_type": "code",
      "source": [
        "# Printing a string\n",
        "print(\"Hello World\")\n"
      ],
      "metadata": {
        "id": "slL97p7SsDCj"
      },
      "execution_count": null,
      "outputs": []
    },
    {
      "cell_type": "code",
      "source": [
        "# Printing a variable\n",
        "x = 5"
      ],
      "metadata": {
        "id": "OMh0Y081sC2T"
      },
      "execution_count": null,
      "outputs": []
    },
    {
      "cell_type": "code",
      "source": [
        "print(x)"
      ],
      "metadata": {
        "id": "UoHwayIDUKAo"
      },
      "execution_count": null,
      "outputs": []
    },
    {
      "cell_type": "code",
      "source": [
        "# Printing multiple variables\n",
        "y = 8\n",
        "print(x, y)"
      ],
      "metadata": {
        "id": "dhNjKVnesCoi"
      },
      "execution_count": null,
      "outputs": []
    },
    {
      "cell_type": "code",
      "source": [
        "# Printing a string and a variable\n",
        "name = \"Hello World\"\n",
        "print(name)\n"
      ],
      "metadata": {
        "id": "XkRaFt6nsCWr"
      },
      "execution_count": null,
      "outputs": []
    },
    {
      "cell_type": "code",
      "execution_count": null,
      "metadata": {
        "id": "0P-k9JCp-lc-"
      },
      "outputs": [],
      "source": [
        "# Using formatted strings\n",
        "answer = 42\n",
        "print(f\"{answer} Amazingly accurate answer to life the universe and everything\")\n"
      ]
    },
    {
      "cell_type": "markdown",
      "metadata": {
        "id": "eNq6AFCf-lc_"
      },
      "source": [
        "#### Variables:\n",
        "\n",
        "<div>\n",
        "<img src=\"https://www.tshirtgeek.com.br/wp-content/uploads/2021/04/com026.jpg\" width=\"500\"/>\n",
        "</div>\n"
      ]
    },
    {
      "cell_type": "code",
      "execution_count": null,
      "metadata": {
        "id": "S6QYvU2n-lc_"
      },
      "outputs": [],
      "source": [
        "# Creating a variable\n",
        "y = 8"
      ]
    },
    {
      "cell_type": "code",
      "execution_count": null,
      "metadata": {
        "id": "Q-loTSeb-ldA"
      },
      "outputs": [],
      "source": [
        "z = y + 3\n",
        "print(z)"
      ]
    },
    {
      "cell_type": "code",
      "source": [
        "123/5"
      ],
      "metadata": {
        "id": "6L0XpEk-U1FX"
      },
      "execution_count": null,
      "outputs": []
    },
    {
      "cell_type": "markdown",
      "metadata": {
        "id": "3aEDcbdQ-ldA"
      },
      "source": [
        "#### Data types"
      ]
    },
    {
      "cell_type": "code",
      "source": [
        "x = 5\n",
        "print(type(x))"
      ],
      "metadata": {
        "id": "huPDF8UJU9ZE"
      },
      "execution_count": null,
      "outputs": []
    },
    {
      "cell_type": "code",
      "execution_count": null,
      "metadata": {
        "id": "iZKzrqjL-ldA"
      },
      "outputs": [],
      "source": [
        "# Integers\n",
        "x = 5\n",
        "\n",
        "# Floats\n",
        "y = 3.14\n",
        "\n",
        "# Strings\n",
        "z = \"Constructor Academy\"\n",
        "\n",
        "# Booleans\n",
        "w = True\n",
        "q = False"
      ]
    },
    {
      "cell_type": "code",
      "source": [
        "print(type(y))"
      ],
      "metadata": {
        "id": "Z3SN7WftVSFl"
      },
      "execution_count": null,
      "outputs": []
    },
    {
      "cell_type": "code",
      "source": [
        "print(type(w))"
      ],
      "metadata": {
        "id": "H9_x0DL0soCx"
      },
      "execution_count": null,
      "outputs": []
    },
    {
      "cell_type": "markdown",
      "metadata": {
        "id": "-kmzOcup-ldB"
      },
      "source": [
        "#### Operators"
      ]
    },
    {
      "cell_type": "code",
      "execution_count": null,
      "metadata": {
        "id": "gMnqiRFf-ldB"
      },
      "outputs": [],
      "source": [
        "# Arithmetic Operators\n",
        "x = 5 + 3    # Addition\n",
        "y = 10 - 4   # Subtraction\n",
        "z = 2 * 5    # Multiplication\n",
        "a = 10 / 2   # Division\n",
        "b = 5 ** 2   # Exponentiation\n",
        "c = 20 % 3   # Modulo\n",
        "\n",
        "# Comparison Operators\n",
        "x = 5 > 3    # Greater than\n",
        "y = 10 < 4   # Less than\n",
        "z = 2 == 5   # Equal to\n",
        "a = 10 != 2  # Not equal to\n",
        "b = 5 >= 2   # Greater than or equal to\n",
        "c = 20 <= 3  # Less than or equal to\n",
        "\n",
        "# Logical Operators\n",
        "x = True and False  # Logical AND\n",
        "y = True or False   # Logical OR\n",
        "z = not True        # Logical NOT"
      ]
    },
    {
      "cell_type": "code",
      "source": [
        "5 > 3"
      ],
      "metadata": {
        "id": "F1499z9KVa1y"
      },
      "execution_count": null,
      "outputs": []
    },
    {
      "cell_type": "markdown",
      "metadata": {
        "id": "mxfY045y-ldB"
      },
      "source": [
        "#### List"
      ]
    },
    {
      "cell_type": "code",
      "execution_count": null,
      "metadata": {
        "id": "DeKjWwTz-ldB"
      },
      "outputs": [],
      "source": [
        "shopping_list = ['cheese', 'bread', 'chocolate']"
      ]
    },
    {
      "cell_type": "code",
      "execution_count": null,
      "metadata": {
        "id": "Kw46uhEW-ldB"
      },
      "outputs": [],
      "source": [
        "print(shopping_list[0])"
      ]
    },
    {
      "cell_type": "code",
      "execution_count": null,
      "metadata": {
        "id": "CiC62m0l-ldB"
      },
      "outputs": [],
      "source": [
        "shopping_list.append('milk')"
      ]
    },
    {
      "cell_type": "code",
      "source": [
        "shopping_list"
      ],
      "metadata": {
        "id": "jwp3fJ0HWCC7"
      },
      "execution_count": null,
      "outputs": []
    },
    {
      "cell_type": "code",
      "source": [
        "shopping_list.remove('bread')\n",
        "shopping_list"
      ],
      "metadata": {
        "id": "6oRnrFVdWED1"
      },
      "execution_count": null,
      "outputs": []
    },
    {
      "cell_type": "code",
      "source": [
        "shopping_list[1] = 'carrots'"
      ],
      "metadata": {
        "id": "YA6Fo3E4WOGY"
      },
      "execution_count": null,
      "outputs": []
    },
    {
      "cell_type": "code",
      "source": [
        "shopping_list"
      ],
      "metadata": {
        "id": "zFd9bHHnWX4T"
      },
      "execution_count": null,
      "outputs": []
    },
    {
      "cell_type": "markdown",
      "metadata": {
        "id": "R8yoSTLz-ldB"
      },
      "source": [
        "#### Dictionary"
      ]
    },
    {
      "cell_type": "code",
      "execution_count": null,
      "metadata": {
        "id": "2egBPaAy-ldC"
      },
      "outputs": [],
      "source": [
        "contact = {\n",
        "    'name': 'Guido van Rossum',\n",
        "    'email': \"g.rossum@python.org\",\n",
        "    'phone': \"0031612345678\",\n",
        "    }"
      ]
    },
    {
      "cell_type": "code",
      "execution_count": null,
      "metadata": {
        "id": "np05aNdH-ldC"
      },
      "outputs": [],
      "source": [
        "print(contact['name'])"
      ]
    },
    {
      "cell_type": "code",
      "execution_count": null,
      "metadata": {
        "id": "JhAK_ySL-ldC"
      },
      "outputs": [],
      "source": [
        "contact['location'] = \"The Netherlands\""
      ]
    },
    {
      "cell_type": "code",
      "source": [
        "contact"
      ],
      "metadata": {
        "id": "-gvs_wXXXATb"
      },
      "execution_count": null,
      "outputs": []
    },
    {
      "cell_type": "markdown",
      "metadata": {
        "id": "cIzsVAwL-ldC"
      },
      "source": [
        "#### Tuple"
      ]
    },
    {
      "cell_type": "code",
      "execution_count": null,
      "metadata": {
        "id": "01l4dSJI-ldC"
      },
      "outputs": [],
      "source": [
        "zermatt_coordinates = (46.0207, 7.7491)"
      ]
    },
    {
      "cell_type": "code",
      "execution_count": null,
      "metadata": {
        "id": "VkwKeKhj-ldC"
      },
      "outputs": [],
      "source": [
        "print(zermatt_coordinates[0])"
      ]
    },
    {
      "cell_type": "code",
      "execution_count": null,
      "metadata": {
        "id": "pGXN6TFj-ldC"
      },
      "outputs": [],
      "source": [
        "zermatt_coordinates[0] = 59.117"
      ]
    },
    {
      "cell_type": "markdown",
      "source": [
        "Input"
      ],
      "metadata": {
        "id": "VWPdXLFePr3C"
      }
    },
    {
      "cell_type": "code",
      "execution_count": null,
      "metadata": {
        "id": "yZ_IXXmZ-ldD"
      },
      "outputs": [],
      "source": [
        "input_number = input()"
      ]
    },
    {
      "cell_type": "code",
      "source": [
        "print(input_number)"
      ],
      "metadata": {
        "id": "1dmIsINIXpfN"
      },
      "execution_count": null,
      "outputs": []
    },
    {
      "cell_type": "code",
      "source": [
        "x1 = input('Please insert your first number: ')\n",
        "x2 = input('Please insert your second number: ')\n",
        "print('The multiplication of these two numbers is: ', x1 * x2)"
      ],
      "metadata": {
        "id": "UzkB3AQbP0wj"
      },
      "execution_count": null,
      "outputs": []
    },
    {
      "cell_type": "markdown",
      "source": [
        "WHAT HAPPENED? 😯"
      ],
      "metadata": {
        "id": "NJuRX4YbQRIo"
      }
    },
    {
      "cell_type": "code",
      "source": [
        "print(type(x1))"
      ],
      "metadata": {
        "id": "Mq0H6ZHJs8L1"
      },
      "execution_count": null,
      "outputs": []
    },
    {
      "cell_type": "code",
      "source": [
        "x1_int = int(x1)\n",
        "print(x1, type(x1_int))"
      ],
      "metadata": {
        "id": "acR1Y_OatCcf"
      },
      "execution_count": null,
      "outputs": []
    },
    {
      "cell_type": "code",
      "source": [
        "x2_int = int(x2)"
      ],
      "metadata": {
        "id": "nB4IWZzaQOih"
      },
      "execution_count": null,
      "outputs": []
    },
    {
      "cell_type": "code",
      "source": [
        "print('The multiplication of these two numbers is: ', x1_int*x2_int)"
      ],
      "metadata": {
        "id": "YhMkGwyhYJ61"
      },
      "execution_count": null,
      "outputs": []
    },
    {
      "cell_type": "markdown",
      "metadata": {
        "id": "sLnCVyL1-ldD"
      },
      "source": [
        "#### conditional Statements"
      ]
    },
    {
      "cell_type": "code",
      "execution_count": null,
      "metadata": {
        "id": "qyQQRPEs-ldD"
      },
      "outputs": [],
      "source": [
        "# Checking if a number is positive or negative\n",
        "x = int(input())\n",
        "\n",
        "if x>0:\n",
        "  print(\"this number is positive\")\n",
        "elif x==0:\n",
        "  print(\"this number is zero\")\n",
        "else:\n",
        "  print(\"this number is negative\")"
      ]
    },
    {
      "cell_type": "markdown",
      "metadata": {
        "id": "axtBCPLh-ldD"
      },
      "source": [
        "#### Loops"
      ]
    },
    {
      "cell_type": "code",
      "execution_count": null,
      "metadata": {
        "id": "Yi6zKmJ8-ldD"
      },
      "outputs": [],
      "source": [
        "#####\n",
        "# FOR\n",
        "#####\n",
        "\n",
        "# Iterating over a list of numbers\n",
        "numbers = [1, 2, 3, 4, 5]\n",
        "\n",
        "for num in numbers:\n",
        "  print(num)\n",
        "\n",
        "# Iterating over a string\n",
        "#string = \"Hello, World!\"\n",
        "\n",
        "#for #...."
      ]
    },
    {
      "cell_type": "code",
      "source": [
        "string = \"Hello, World!\"\n",
        "for char in string:\n",
        "  print(char)"
      ],
      "metadata": {
        "id": "xT4jTgirZVEM"
      },
      "execution_count": null,
      "outputs": []
    },
    {
      "cell_type": "code",
      "source": [
        "for num in numbers:\n",
        "  print(num**3)"
      ],
      "metadata": {
        "id": "RWwnAhYgZcz-"
      },
      "execution_count": null,
      "outputs": []
    },
    {
      "cell_type": "markdown",
      "source": [
        "#### List comprehension"
      ],
      "metadata": {
        "id": "gk7JPC1OvwyQ"
      }
    },
    {
      "cell_type": "code",
      "source": [
        "results = [num**3 for num in numbers]\n",
        "print(results)"
      ],
      "metadata": {
        "id": "PXm6IVoevujf"
      },
      "execution_count": null,
      "outputs": []
    },
    {
      "cell_type": "markdown",
      "source": [
        "# [Python Tutor](https://pythontutor.com/python-debugger.html#mode=edit)"
      ],
      "metadata": {
        "id": "ZeD-0-EcZldb"
      }
    },
    {
      "cell_type": "code",
      "source": [
        "import urllib.parse\n",
        "from IPython.display import IFrame\n",
        "\n",
        "def visualize_python(code):\n",
        "  safe_string = urllib.parse.quote_plus(code)\n",
        "  src = f\"https://pythontutor.com/iframe-embed.html#code={safe_string}&codeDivHeight=350&codeDivWidth=350&py=3\"\n",
        "  return IFrame(src, width=1000, height=400)"
      ],
      "metadata": {
        "id": "MDUTJQ-hvE7P"
      },
      "execution_count": null,
      "outputs": []
    },
    {
      "cell_type": "code",
      "source": [
        "range(8)"
      ],
      "metadata": {
        "id": "QEPChy59atyX"
      },
      "execution_count": null,
      "outputs": []
    },
    {
      "cell_type": "code",
      "source": [
        "list(range(8))"
      ],
      "metadata": {
        "id": "d1ro4tfKawqd"
      },
      "execution_count": null,
      "outputs": []
    },
    {
      "cell_type": "code",
      "source": [
        "example1 = '''\n",
        "odd_numbers = []\n",
        "nums = list(range(8))\n",
        "\n",
        "for num in nums:\n",
        "  remainder = num % 2\n",
        "  if remainder:\n",
        "    odd_numbers.append(num)\n",
        "'''\n",
        "\n",
        "################################\n",
        "\n",
        "visualize_python(example1)"
      ],
      "metadata": {
        "id": "bhlQiqYRvK-o"
      },
      "execution_count": null,
      "outputs": []
    },
    {
      "cell_type": "code",
      "source": [
        "example2 = '''\n",
        "odd_numbers = []\n",
        "nums = list(range(8))\n",
        "\n",
        "for num in nums:\n",
        "  remainder = num % 2\n",
        "  if remainder:\n",
        "    odd_numbers.append(num)\n",
        "'''\n",
        "\n",
        "################################\n",
        "\n",
        "visualize_python(example2)"
      ],
      "metadata": {
        "id": "almpQ6G9ZoCG"
      },
      "execution_count": null,
      "outputs": []
    },
    {
      "cell_type": "code",
      "source": [
        "#######\n",
        "# WHILE\n",
        "#######\n",
        "\n",
        "# Printing the numbers from 1 to 10\n",
        "i = 1\n",
        "\n",
        "while i<=10:\n",
        "  print(i)\n",
        "  i = i + 1\n",
        "  # i += 1"
      ],
      "metadata": {
        "id": "woLJjTuybJZE"
      },
      "execution_count": null,
      "outputs": []
    },
    {
      "cell_type": "code",
      "execution_count": null,
      "metadata": {
        "id": "tLckpDkf-ldD"
      },
      "outputs": [],
      "source": [
        "# Summing the numbers from 1 to 10\n",
        "total = 0\n",
        "i = 1\n",
        "\n",
        "while i<=10:\n",
        "  total += i\n",
        "  i += 1\n",
        "\n",
        "print(\"The sum of the numbers from 1 to 10 is\", total)"
      ]
    },
    {
      "cell_type": "code",
      "source": [
        "list(range(1, 11))"
      ],
      "metadata": {
        "id": "iTcIDmkUbr3Z"
      },
      "execution_count": null,
      "outputs": []
    },
    {
      "cell_type": "code",
      "execution_count": null,
      "metadata": {
        "id": "zU9RTb2Z-ldD"
      },
      "outputs": [],
      "source": [
        "#############\n",
        "# NESTED LOOP\n",
        "#############\n",
        "\n",
        "# Multiplication table\n",
        "\n",
        "for i in range(1, 11):\n",
        "    for j in range(1, 11):\n",
        "        product = i * j\n",
        "        print(f\"{i} x {j} = {product}\")"
      ]
    },
    {
      "cell_type": "markdown",
      "metadata": {
        "id": "ApA_pz09-ldE"
      },
      "source": [
        "#### Functions"
      ]
    },
    {
      "cell_type": "markdown",
      "source": [
        "Calling functions in Python:\n",
        "\n",
        "We can call built-in functions, or write our own."
      ],
      "metadata": {
        "id": "tS3QmcaOL2qw"
      }
    },
    {
      "cell_type": "code",
      "source": [
        "#built-in function:\n",
        "pow(2, 3)"
      ],
      "metadata": {
        "id": "yixKaA9GMCRh"
      },
      "execution_count": null,
      "outputs": []
    },
    {
      "cell_type": "code",
      "source": [
        "import math"
      ],
      "metadata": {
        "id": "AFqC6QMRM1i_"
      },
      "execution_count": null,
      "outputs": []
    },
    {
      "cell_type": "code",
      "source": [
        "math.ceil(3.14)"
      ],
      "metadata": {
        "id": "cWxUcOdYcY_R"
      },
      "execution_count": null,
      "outputs": []
    },
    {
      "cell_type": "code",
      "source": [
        "math.floor(3.14)"
      ],
      "metadata": {
        "id": "3DPe_32hcffJ"
      },
      "execution_count": null,
      "outputs": []
    },
    {
      "cell_type": "code",
      "source": [
        "# Defining a function that adds two numbers\n",
        "def add_numbers(x, y):\n",
        "    #takes x and y and prints the addition\n",
        "    result = x + y\n",
        "\n",
        "    return(result)"
      ],
      "metadata": {
        "id": "Oant2XGMc9uF"
      },
      "execution_count": null,
      "outputs": []
    },
    {
      "cell_type": "code",
      "execution_count": null,
      "metadata": {
        "id": "ZH4jwfSc-ldE"
      },
      "outputs": [],
      "source": [
        "# Calling the function and storing the result in a variable\n",
        "result = add_numbers(3, 5)\n",
        "\n",
        "# Printing the result\n",
        "print(result)"
      ]
    },
    {
      "cell_type": "code",
      "source": [
        "import string\n",
        "print(string.digits)"
      ],
      "metadata": {
        "id": "lwzh0ZPJdW3b"
      },
      "execution_count": null,
      "outputs": []
    },
    {
      "cell_type": "code",
      "execution_count": null,
      "metadata": {
        "id": "FbmtOdVE-ldE"
      },
      "outputs": [],
      "source": [
        "# Password generator\n",
        "import random\n",
        "\n",
        "\n",
        "def generate_password(length):\n",
        "    # Define the pool of characters to choose from\n",
        "    characters = string.ascii_letters + string.digits\n",
        "\n",
        "    # Generate a random password of the specified length\n",
        "    password=''\n",
        "    for i in range(length):\n",
        "      password += random.choice(characters)\n",
        "\n",
        "    return password\n",
        "\n",
        "password = generate_password(8)\n",
        "print(password)"
      ]
    },
    {
      "cell_type": "markdown",
      "metadata": {
        "id": "STPi1CyG-ldE"
      },
      "source": [
        "## LET'S HAVE SOME FUN\n",
        "\n",
        "### I would like to introduce you to our friend the turtle...shall we call him Leonardo..."
      ]
    },
    {
      "cell_type": "code",
      "source": [
        "!pip install ColabTurtle"
      ],
      "metadata": {
        "id": "Aqjfm-lfGKRB"
      },
      "execution_count": null,
      "outputs": []
    },
    {
      "cell_type": "code",
      "source": [
        "from ColabTurtle.Turtle import *\n",
        "initializeTurtle()\n",
        "side_length = 100\n",
        "angle = 90\n",
        "\n",
        "for i in range(4):\n",
        "  forward(side_length)\n",
        "  right(angle)\n"
      ],
      "metadata": {
        "id": "wHnvqEJMGOjB"
      },
      "execution_count": null,
      "outputs": []
    },
    {
      "cell_type": "code",
      "source": [
        "initializeTurtle()\n",
        "speed(10)\n",
        "color('green')\n",
        "bgcolor('white')\n",
        "width(1)\n",
        "#one star\n",
        "penup()\n",
        "goto(300, 300)\n",
        "pendown()\n",
        "for i in range(36):\n",
        " forward(250)\n",
        " left(170)\n",
        "#a second star\n",
        "penup()\n",
        "goto(500, 400)\n",
        "pendown()\n",
        "for i in range(36):\n",
        " forward(250)\n",
        " left(170)"
      ],
      "metadata": {
        "id": "KzvfVzQnJRzz"
      },
      "execution_count": null,
      "outputs": []
    },
    {
      "cell_type": "markdown",
      "source": [
        "**If you are interesting in checking all the commands and documentation:** 🐢\n",
        "\n",
        "https://github.com/tolgaatam/ColabTurtle"
      ],
      "metadata": {
        "id": "5RxaBqlrJui-"
      }
    },
    {
      "cell_type": "code",
      "execution_count": null,
      "metadata": {
        "id": "QKK63hCK-ldE"
      },
      "outputs": [],
      "source": [
        "initializeTurtle()\n",
        "speed(7)\n",
        "def drawtri():\n",
        "  for side in range(3):\n",
        "    right(120)\n",
        "    forward(150)\n",
        "\n",
        "drawtri()\n"
      ]
    },
    {
      "cell_type": "code",
      "source": [
        "initializeTurtle()\n",
        "speed(7)\n",
        "\n",
        "for ti in range(10):\n",
        "  drawtri()\n",
        "  right(36)"
      ],
      "metadata": {
        "id": "kTEnb6yqKZiG"
      },
      "execution_count": null,
      "outputs": []
    },
    {
      "cell_type": "markdown",
      "metadata": {
        "id": "OqzIptw9-ldF"
      },
      "source": [
        "#### Try programming yourself:"
      ]
    },
    {
      "cell_type": "markdown",
      "metadata": {
        "id": "tCEgRlC7-ldF"
      },
      "source": [
        "Write a program that asks the user to enter a temperature in Celsius and converts the temperature to Fahrenheit."
      ]
    },
    {
      "cell_type": "code",
      "execution_count": null,
      "metadata": {
        "id": "NX1-H5YA-ldF"
      },
      "outputs": [],
      "source": []
    },
    {
      "cell_type": "markdown",
      "metadata": {
        "id": "ddzDT3XE-ldF"
      },
      "source": [
        "Write a program that asks the user for a number and then prints out whether the number is even or odd."
      ]
    },
    {
      "cell_type": "code",
      "execution_count": null,
      "metadata": {
        "id": "cik-_B1m-ldF"
      },
      "outputs": [],
      "source": []
    },
    {
      "cell_type": "markdown",
      "metadata": {
        "id": "YZq99YJ9-ldF"
      },
      "source": [
        "Write a program that takes a list of numbers and returns a new list with only the even numbers."
      ]
    },
    {
      "cell_type": "code",
      "execution_count": null,
      "metadata": {
        "id": "9V0ekCgv-ldF"
      },
      "outputs": [],
      "source": []
    },
    {
      "cell_type": "markdown",
      "metadata": {
        "id": "-qc4CEGE-ldF"
      },
      "source": [
        "Write a program that takes a list of numbers and prints out the sum of the numbers."
      ]
    },
    {
      "cell_type": "code",
      "execution_count": null,
      "metadata": {
        "id": "oawJMRfD-ldF"
      },
      "outputs": [],
      "source": []
    },
    {
      "cell_type": "markdown",
      "metadata": {
        "id": "Vo5rEAi3-ldF"
      },
      "source": [
        "Write a program that takes a list of numbers and returns the largest number in the list."
      ]
    },
    {
      "cell_type": "code",
      "execution_count": null,
      "metadata": {
        "id": "Kbic8W8p-ldF"
      },
      "outputs": [],
      "source": []
    },
    {
      "cell_type": "markdown",
      "source": [
        "#Practice python on your own\n",
        "\n",
        "Learn more python: https://www.learnpython.org/\n",
        "\n",
        "Python exercise: https://www.w3resource.com/python-exercises/"
      ],
      "metadata": {
        "id": "Q0e5J45XaT1V"
      }
    }
  ],
  "metadata": {
    "kernelspec": {
      "display_name": "stats",
      "language": "python",
      "name": "python3"
    },
    "language_info": {
      "codemirror_mode": {
        "name": "ipython",
        "version": 3
      },
      "file_extension": ".py",
      "mimetype": "text/x-python",
      "name": "python",
      "nbconvert_exporter": "python",
      "pygments_lexer": "ipython3",
      "version": "3.10.7"
    },
    "orig_nbformat": 4,
    "vscode": {
      "interpreter": {
        "hash": "3b3cb2e0c30b75865ba7dd77bc78f246968d65430b70bce77130cb670543fdcc"
      }
    },
    "colab": {
      "provenance": [],
      "include_colab_link": true
    }
  },
  "nbformat": 4,
  "nbformat_minor": 0
}